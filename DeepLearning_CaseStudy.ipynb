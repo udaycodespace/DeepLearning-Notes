{
  "nbformat": 4,
  "nbformat_minor": 0,
  "metadata": {
    "colab": {
      "provenance": [],
      "include_colab_link": true
    },
    "kernelspec": {
      "name": "python3",
      "display_name": "Python 3"
    },
    "language_info": {
      "name": "python"
    }
  },
  "cells": [
    {
      "cell_type": "markdown",
      "metadata": {
        "id": "view-in-github",
        "colab_type": "text"
      },
      "source": [
        "<a href=\"https://colab.research.google.com/github/udaycodespace/DeepLearning-Notes/blob/main/DeepLearning_CaseStudy.ipynb\" target=\"_parent\"><img src=\"https://colab.research.google.com/assets/colab-badge.svg\" alt=\"Open In Colab\"/></a>"
      ]
    },
    {
      "cell_type": "markdown",
      "source": [
        "### Why ANN?\n",
        "ANN is chosen because:  \n",
        "- **Medical data is complex**  \n",
        "- **Features interact non-linearly**  \n",
        "- **Hidden patterns** can be captured effectively  \n",
        "- Helps in **accurate prediction of patient survival risk**  \n"
      ],
      "metadata": {
        "id": "UeZsEX47TX5T"
      }
    },
    {
      "cell_type": "markdown",
      "source": [
        "### Why Artificial Neural Network (ANN)?\n",
        "\n",
        "We use an **Artificial Neural Network (ANN)** because the heart failure dataset contains many medical features  \n",
        "(e.g., **age, blood pressure, serum levels, ejection fraction**) that interact in a **non-linear and complex way**.  \n",
        "\n",
        "- ANN can **learn hidden patterns automatically** without manual feature engineering.  \n",
        "- It handles both **continuous values** (serum sodium, creatinine) and **categorical/binary values** (smoking, anaemia) together.  \n",
        "- Unlike simple models, ANN can **combine signals** from multiple features to output a probability of **death event**.  \n",
        "- Works well for **binary classification**, even with **imbalanced or noisy data**.  \n"
      ],
      "metadata": {
        "id": "4KRcuyu8TZ7B"
      }
    },
    {
      "cell_type": "code",
      "execution_count": 1,
      "metadata": {
        "colab": {
          "base_uri": "https://localhost:8080/"
        },
        "id": "J5BpbZYcSRSF",
        "outputId": "a92e5c3a-5ca3-4f0f-c94e-45338ca2f4fa"
      },
      "outputs": [
        {
          "output_type": "stream",
          "name": "stdout",
          "text": [
            "Acc= 0.8  Prec= 0.6363636363636364  Rec= 0.875  F1= 0.7368421052631579\n"
          ]
        }
      ],
      "source": [
        "# Heart Failure Prediction ANN (short, exam-ready)\n",
        "import numpy as n, pandas as p, tensorflow as t\n",
        "from sklearn.model_selection import train_test_split as s\n",
        "from sklearn.preprocessing import StandardScaler as S\n",
        "from sklearn.metrics import accuracy_score as A, precision_score as P, recall_score as R, f1_score as F\n",
        "\n",
        "from tensorflow.keras.models import Sequential as M\n",
        "from tensorflow.keras.layers import Dense as D, Dropout as O, BatchNormalization as B, Input as I\n",
        "from tensorflow.keras.callbacks import EarlyStopping as E\n",
        "from tensorflow.keras.optimizers import SGD as G\n",
        "\n",
        "n.random.seed(7); t.random.set_seed(7)\n",
        "\n",
        "# data\n",
        "d = p.read_csv(\"heart_failure_clinical_records_dataset.csv\")\n",
        "X, y = d.drop(\"DEATH_EVENT\", axis=1), d[\"DEATH_EVENT\"]\n",
        "\n",
        "# split+scale\n",
        "Xr,Xt,yr,yt = s(X,y,test_size=0.25,random_state=7,stratify=y)\n",
        "sc = S(); Xr, Xt = sc.fit_transform(Xr), sc.transform(Xt)\n",
        "\n",
        "# model\n",
        "m = M([\n",
        "  I(shape=(Xr.shape[1],)),\n",
        "  D(16,activation=\"relu\"),B(),O(0.2),\n",
        "  D(8,activation=\"relu\"),B(),O(0.1),\n",
        "  D(4,activation=\"relu\"),\n",
        "  D(1,activation=\"sigmoid\")\n",
        "])\n",
        "m.compile(optimizer=G(learning_rate=0.01,momentum=0.9),loss=\"binary_crossentropy\",metrics=[\"accuracy\"])\n",
        "\n",
        "# train\n",
        "es = E(monitor=\"val_loss\",patience=20,restore_best_weights=True,verbose=0)\n",
        "m.fit(Xr,yr,validation_split=0.2,epochs=500,batch_size=32,callbacks=[es],verbose=0)\n",
        "\n",
        "# test\n",
        "l,a = m.evaluate(Xt,yt,verbose=0)\n",
        "yp = (m.predict(Xt,verbose=0).ravel()>=0.5).astype(int)\n",
        "print(\"Acc=\",A(yt,yp),\" Prec=\",P(yt,yp),\" Rec=\",R(yt,yp),\" F1=\",F(yt,yp))"
      ]
    },
    {
      "cell_type": "code",
      "source": [
        "# inference (2 sample cases: should get 0 and 1)\n",
        "c = list(sc.feature_names_in_)\n",
        "s0 = sc.transform(p.DataFrame([[55,0,120,0,50,0,260000,0.9,140,1,0,120]],columns=c))\n",
        "s1 = sc.transform(p.DataFrame([[78,1,900,1,20,1,150000,2.8,130,0,1,20]],columns=c))\n",
        "\n",
        "p0 = float(m.predict(s0,verbose=0))\n",
        "p1 = float(m.predict(s1,verbose=0))\n",
        "print(\"Case0 prob=\",p0,\"→ pred=\",int(p0>=0.5))\n",
        "print(\"Case1 prob=\",p1,\"→ pred=\",int(p1>=0.5))"
      ],
      "metadata": {
        "colab": {
          "base_uri": "https://localhost:8080/"
        },
        "id": "ZfNHVnBqSZte",
        "outputId": "06718202-10c8-4cd4-fc88-383bea001dcf"
      },
      "execution_count": 2,
      "outputs": [
        {
          "output_type": "stream",
          "name": "stdout",
          "text": [
            "Case0 prob= 0.06107523292303085 → pred= 0\n",
            "Case1 prob= 0.9605535864830017 → pred= 1\n"
          ]
        },
        {
          "output_type": "stream",
          "name": "stderr",
          "text": [
            "/tmp/ipython-input-322627004.py:6: DeprecationWarning: Conversion of an array with ndim > 0 to a scalar is deprecated, and will error in future. Ensure you extract a single element from your array before performing this operation. (Deprecated NumPy 1.25.)\n",
            "  p0 = float(m.predict(s0,verbose=0))\n",
            "/tmp/ipython-input-322627004.py:7: DeprecationWarning: Conversion of an array with ndim > 0 to a scalar is deprecated, and will error in future. Ensure you extract a single element from your array before performing this operation. (Deprecated NumPy 1.25.)\n",
            "  p1 = float(m.predict(s1,verbose=0))\n"
          ]
        }
      ]
    },
    {
      "cell_type": "markdown",
      "source": [
        "# Heart Failure Prediction using ANN\n",
        "\n",
        "- Imported **NumPy, Pandas, TensorFlow/Keras, sklearn** for model building, scaling, splitting, and evaluation.  \n",
        "- Fixed **random seed** for NumPy and TensorFlow for reproducibility.  \n",
        "- Loaded the **heart failure dataset**, separated features (**X**) and target (**y = DEATH_EVENT**).  \n",
        "- Split data into **training (75%)** and **testing (25%)** sets; applied **StandardScaler** for normalization.  \n",
        "- Built a **Sequential ANN**: Dense(16) → BatchNorm → Dropout → Dense(8) → BatchNorm → Dropout → Dense(4) → Output(sigmoid).  \n",
        "- Compiled with **SGD (lr=0.01, momentum=0.9)**, **binary cross-entropy loss**, and **accuracy** metric.  \n",
        "- Trained with **EarlyStopping**, using validation split from training data, max **500 epochs**.  \n",
        "- Evaluated on test set: **loss, accuracy, precision, recall, F1-score**.  \n",
        "- Created **two patient test cases** (low risk, high risk), scaled them, and predicted survival probability.  \n",
        "- Printed metrics and showed predicted outcome (**0 = survived, 1 = death**) for the cases.  \n"
      ],
      "metadata": {
        "id": "-emQlHm5S--w"
      }
    },
    {
      "cell_type": "markdown",
      "source": [
        "# Heart Failure Prediction using ANN\n",
        "\n",
        "## 1. Libraries Imported\n",
        "- **NumPy, Pandas** → data handling  \n",
        "- **TensorFlow/Keras** → ANN model building & training  \n",
        "- **sklearn** → scaling, splitting, evaluation  \n",
        "\n",
        "To ensure **reproducibility**, random seeds were fixed for both **NumPy** and **TensorFlow**.\n",
        "\n",
        "---\n",
        "\n",
        "## 2. Data Preparation\n",
        "- Loaded **Heart Failure dataset**.  \n",
        "- Separated:\n",
        "  - **X** → features  \n",
        "  - **y** → target (`DEATH_EVENT`)  \n",
        "- Train-test split: **75% training / 25% testing**.  \n",
        "- Applied **StandardScaler** for feature normalization.\n",
        "\n",
        "---\n",
        "\n",
        "## 3. Model Architecture\n",
        "Built a **Sequential ANN** with the following layers:\n",
        "\n",
        "1. Dense(16) → Batch Normalization → Dropout  \n",
        "2. Dense(8) → Batch Normalization → Dropout  \n",
        "3. Dense(4)  \n",
        "4. Output: Dense(1, activation = `sigmoid`)  \n",
        "\n",
        "---\n",
        "\n",
        "## 4. Compilation\n",
        "- **Optimizer**: SGD (learning_rate = 0.01, momentum = 0.9)  \n",
        "- **Loss**: Binary Crossentropy  \n",
        "- **Metric**: Accuracy  \n",
        "\n",
        "---\n",
        "\n",
        "## 5. Training\n",
        "- Used **EarlyStopping** to avoid overfitting.  \n",
        "- Validation split from training data.  \n",
        "- Maximum **500 epochs**.  \n",
        "\n",
        "---\n",
        "\n",
        "## 6. Evaluation\n",
        "On the **test set**, calculated:  \n",
        "- **Loss**  \n",
        "- **Accuracy**  \n",
        "- **Precision**  \n",
        "- **Recall**  \n",
        "- **F1-score**  \n",
        "\n",
        "---\n",
        "\n",
        "## 7. Predictions\n",
        "Created **two patient test cases**:  \n",
        "- **Low-risk case**  \n",
        "- **High-risk case**  \n",
        "\n",
        "Steps:  \n",
        "1. Scaled patient data using same StandardScaler.  \n",
        "2. Predicted probabilities using trained model.  \n",
        "3. Final decision:  \n",
        "   - `0 = Survived`  \n",
        "   - `1 = Death`  \n",
        "\n",
        "---\n",
        "\n",
        "## 8. Outputs\n",
        "- Prints evaluation metrics.  \n",
        "- Displays predictions for the two sample patients.  \n"
      ],
      "metadata": {
        "id": "rGjFtQFsS8eC"
      }
    }
  ]
}