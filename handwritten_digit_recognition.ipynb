{
  "nbformat": 4,
  "nbformat_minor": 0,
  "metadata": {
    "colab": {
      "provenance": [],
      "gpuType": "T4",
      "include_colab_link": true
    },
    "kernelspec": {
      "name": "python3",
      "display_name": "Python 3"
    },
    "language_info": {
      "name": "python"
    },
    "accelerator": "GPU"
  },
  "cells": [
    {
      "cell_type": "markdown",
      "metadata": {
        "id": "view-in-github",
        "colab_type": "text"
      },
      "source": [
        "<a href=\"https://colab.research.google.com/github/udaycodespace/DeepLearning-Notes/blob/main/handwritten_digit_recognition.ipynb\" target=\"_parent\"><img src=\"https://colab.research.google.com/assets/colab-badge.svg\" alt=\"Open In Colab\"/></a>"
      ]
    },
    {
      "cell_type": "markdown",
      "source": [
        "# Case Study: Handwritten Digit Recognition using CNN (LeNet-5 inspired)\n",
        "\n",
        "## 1️⃣ Aim of the Experiment\n",
        "\n",
        "- To recognize handwritten digits (0–9) automatically from images using a Convolutional Neural Network (CNN).  \n",
        "- To understand and apply the LeNet-5 inspired CNN architecture on a real dataset.\n",
        "\n",
        "## 2️⃣ Dataset Used: MNIST\n",
        "\n",
        "- **MNIST** = Modified NIST dataset, standard for handwritten digit recognition.\n",
        "\n",
        "- **NIST Versions:**\n",
        "  1. **NIST-1:** original dataset by US National Institute of Standards and Technology.  \n",
        "  2. **NIST-2:** modified, preprocessed into 28×28 grayscale images, easier for neural networks.\n",
        "\n",
        "- **Quantity:**\n",
        "  - 60,000 training images  \n",
        "  - 10,000 test images\n",
        "\n",
        "- **Image properties:**\n",
        "  - Size: 28×28 pixels  \n",
        "  - Color: grayscale (0–255 pixel values)  \n",
        "  - Normalized to 0–1 before feeding into CNN\n",
        "\n",
        "## 3️⃣ Real-Life Applications\n",
        "\n",
        "- Automatic postal code recognition in postal services  \n",
        "- Bank check digit reading  \n",
        "- OCR (Optical Character Recognition) for digit input in forms, invoices  \n",
        "- Digital pen / smartboard recognition systems\n",
        "\n"
      ],
      "metadata": {
        "id": "F2TEEefxI3KT"
      }
    },
    {
      "cell_type": "markdown",
      "source": [
        "## 4️⃣ Code\n",
        "\n",
        "Here is the compact exam-friendly code with simplified variable names:"
      ],
      "metadata": {
        "id": "SQLisakoJMIT"
      }
    },
    {
      "cell_type": "code",
      "source": [
        "import tensorflow as tf, cv2, numpy as np\n",
        "from tensorflow.keras.datasets import mnist\n",
        "from tensorflow.keras.models import Sequential, load_model\n",
        "from tensorflow.keras.layers import Input, Conv2D, AveragePooling2D, Flatten, Dense\n",
        "from tensorflow.keras.utils import to_categorical\n",
        "from sklearn.metrics import accuracy_score, precision_score, recall_score, f1_score, confusion_matrix\n",
        "from google.colab import files  # Remove if not using Colab"
      ],
      "metadata": {
        "id": "WLpB2VpqI3vr"
      },
      "execution_count": 1,
      "outputs": []
    },
    {
      "cell_type": "code",
      "source": [
        "# 1️⃣ Load data\n",
        "(a,b),(c,d)=mnist.load_data()\n",
        "a=a.reshape(-1,28,28,1)/255; c=c.reshape(-1,28,28,1)/255\n",
        "b=to_categorical(b,10)"
      ],
      "metadata": {
        "colab": {
          "base_uri": "https://localhost:8080/"
        },
        "id": "tzLDFyHbJdqi",
        "outputId": "3348db92-0b41-4296-cd59-ad7234be3018"
      },
      "execution_count": 2,
      "outputs": [
        {
          "output_type": "stream",
          "name": "stdout",
          "text": [
            "Downloading data from https://storage.googleapis.com/tensorflow/tf-keras-datasets/mnist.npz\n",
            "\u001b[1m11490434/11490434\u001b[0m \u001b[32m━━━━━━━━━━━━━━━━━━━━\u001b[0m\u001b[37m\u001b[0m \u001b[1m0s\u001b[0m 0us/step\n"
          ]
        }
      ]
    },
    {
      "cell_type": "code",
      "source": [
        "# 2️⃣ Build CNN (LeNet-5 inspired)\n",
        "m=Sequential([\n",
        "    Input(shape=(28,28,1)),\n",
        "    Conv2D(6,(5,5),activation=\"tanh\",padding=\"same\"), AveragePooling2D(pool_size=(2,2)),\n",
        "    Conv2D(16,(5,5),activation=\"tanh\"), AveragePooling2D(pool_size=(2,2)),\n",
        "    Flatten(), Dense(120,activation=\"tanh\"), Dense(84,activation=\"tanh\"), Dense(10,activation=\"softmax\")\n",
        "])\n",
        "m.compile(optimizer=\"adam\",loss=\"categorical_crossentropy\",metrics=[\"accuracy\"])"
      ],
      "metadata": {
        "id": "5fCGCnBUJdyE"
      },
      "execution_count": 3,
      "outputs": []
    },
    {
      "cell_type": "code",
      "source": [
        "# 3️⃣ Train\n",
        "m.fit(a,b,epochs=5,batch_size=128,validation_split=0.1,verbose=2)"
      ],
      "metadata": {
        "colab": {
          "base_uri": "https://localhost:8080/"
        },
        "id": "BQCXy7PrJd3U",
        "outputId": "f1b98532-63db-4dde-8ac4-2ad886265b9b"
      },
      "execution_count": 4,
      "outputs": [
        {
          "output_type": "stream",
          "name": "stdout",
          "text": [
            "Epoch 1/5\n",
            "422/422 - 9s - 21ms/step - accuracy: 0.8934 - loss: 0.3621 - val_accuracy: 0.9603 - val_loss: 0.1358\n",
            "Epoch 2/5\n",
            "422/422 - 2s - 4ms/step - accuracy: 0.9595 - loss: 0.1338 - val_accuracy: 0.9745 - val_loss: 0.0842\n",
            "Epoch 3/5\n",
            "422/422 - 2s - 4ms/step - accuracy: 0.9733 - loss: 0.0877 - val_accuracy: 0.9773 - val_loss: 0.0725\n",
            "Epoch 4/5\n",
            "422/422 - 1s - 3ms/step - accuracy: 0.9808 - loss: 0.0633 - val_accuracy: 0.9825 - val_loss: 0.0604\n",
            "Epoch 5/5\n",
            "422/422 - 1s - 3ms/step - accuracy: 0.9841 - loss: 0.0499 - val_accuracy: 0.9832 - val_loss: 0.0589\n"
          ]
        },
        {
          "output_type": "execute_result",
          "data": {
            "text/plain": [
              "<keras.src.callbacks.history.History at 0x781d65f3bbf0>"
            ]
          },
          "metadata": {},
          "execution_count": 4
        }
      ]
    },
    {
      "cell_type": "code",
      "source": [
        "# 4️⃣ Evaluate\n",
        "e=np.argmax(m.predict(c),axis=1)\n",
        "print(\"Accuracy :\", accuracy_score(d,e))\n",
        "print(\"Precision:\", precision_score(d,e,average='weighted'))\n",
        "print(\"Recall   :\", recall_score(d,e,average='weighted'))\n",
        "print(\"F1-score :\", f1_score(d,e,average='weighted'))\n",
        "print(\"Confusion:\\n\", confusion_matrix(d,e))"
      ],
      "metadata": {
        "colab": {
          "base_uri": "https://localhost:8080/"
        },
        "id": "LeShMp0zJd6q",
        "outputId": "c6922527-cba4-4fe3-8485-8190b57045e0"
      },
      "execution_count": 5,
      "outputs": [
        {
          "output_type": "stream",
          "name": "stdout",
          "text": [
            "\u001b[1m313/313\u001b[0m \u001b[32m━━━━━━━━━━━━━━━━━━━━\u001b[0m\u001b[37m\u001b[0m \u001b[1m1s\u001b[0m 3ms/step\n",
            "Accuracy : 0.9776\n",
            "Precision: 0.9779711178333852\n",
            "Recall   : 0.9776\n",
            "F1-score : 0.9776381958454241\n",
            "Confusion:\n",
            " [[ 968    0    1    0    0    2    3    2    2    2]\n",
            " [   0 1124    1    3    0    0    2    2    3    0]\n",
            " [   4    2  983   23    0    1    0   16    3    0]\n",
            " [   0    0    1  998    0    4    0    5    2    0]\n",
            " [   0    0    0    1  960    0    4    2    0   15]\n",
            " [   2    0    0    9    0  877    2    1    0    1]\n",
            " [   4    2    0    0    2   13  936    0    1    0]\n",
            " [   1    1    6    5    0    0    0 1014    0    1]\n",
            " [   3    0    1   14    1    3    0    6  944    2]\n",
            " [   1    2    0   10    6    8    0    8    2  972]]\n"
          ]
        }
      ]
    },
    {
      "cell_type": "code",
      "source": [
        "# 5️⃣ Save model\n",
        "m.save(\"lenet5_mnist.h5\")"
      ],
      "metadata": {
        "colab": {
          "base_uri": "https://localhost:8080/"
        },
        "id": "6jHk6yaDJnZ6",
        "outputId": "e24a8a2a-000f-44a1-e0b1-9abc88a6e1ec"
      },
      "execution_count": 6,
      "outputs": [
        {
          "output_type": "stream",
          "name": "stderr",
          "text": [
            "WARNING:absl:You are saving your model as an HDF5 file via `model.save()` or `keras.saving.save_model(model)`. This file format is considered legacy. We recommend using instead the native Keras format, e.g. `model.save('my_model.keras')` or `keras.saving.save_model(model, 'my_model.keras')`. \n"
          ]
        }
      ]
    },
    {
      "cell_type": "code",
      "source": [
        "# 6️⃣ Predict custom handwritten digit\n",
        "u=files.upload()\n",
        "for f in u.keys():\n",
        "    i=cv2.imread(f,0); i=cv2.resize(255-i,(28,28))/255; i=i.reshape(1,28,28,1)\n",
        "    print(\"Predicted Digit:\", np.argmax(m.predict(i)))"
      ],
      "metadata": {
        "colab": {
          "base_uri": "https://localhost:8080/",
          "height": 107
        },
        "id": "Sp1sd9a0Jvis",
        "outputId": "dd2330d2-ff4e-493f-9ef8-aa50867dcdfa"
      },
      "execution_count": 7,
      "outputs": [
        {
          "output_type": "display_data",
          "data": {
            "text/plain": [
              "<IPython.core.display.HTML object>"
            ],
            "text/html": [
              "\n",
              "     <input type=\"file\" id=\"files-663adccb-34a5-4b4e-9883-37b3c6e7f8f4\" name=\"files[]\" multiple disabled\n",
              "        style=\"border:none\" />\n",
              "     <output id=\"result-663adccb-34a5-4b4e-9883-37b3c6e7f8f4\">\n",
              "      Upload widget is only available when the cell has been executed in the\n",
              "      current browser session. Please rerun this cell to enable.\n",
              "      </output>\n",
              "      <script>// Copyright 2017 Google LLC\n",
              "//\n",
              "// Licensed under the Apache License, Version 2.0 (the \"License\");\n",
              "// you may not use this file except in compliance with the License.\n",
              "// You may obtain a copy of the License at\n",
              "//\n",
              "//      http://www.apache.org/licenses/LICENSE-2.0\n",
              "//\n",
              "// Unless required by applicable law or agreed to in writing, software\n",
              "// distributed under the License is distributed on an \"AS IS\" BASIS,\n",
              "// WITHOUT WARRANTIES OR CONDITIONS OF ANY KIND, either express or implied.\n",
              "// See the License for the specific language governing permissions and\n",
              "// limitations under the License.\n",
              "\n",
              "/**\n",
              " * @fileoverview Helpers for google.colab Python module.\n",
              " */\n",
              "(function(scope) {\n",
              "function span(text, styleAttributes = {}) {\n",
              "  const element = document.createElement('span');\n",
              "  element.textContent = text;\n",
              "  for (const key of Object.keys(styleAttributes)) {\n",
              "    element.style[key] = styleAttributes[key];\n",
              "  }\n",
              "  return element;\n",
              "}\n",
              "\n",
              "// Max number of bytes which will be uploaded at a time.\n",
              "const MAX_PAYLOAD_SIZE = 100 * 1024;\n",
              "\n",
              "function _uploadFiles(inputId, outputId) {\n",
              "  const steps = uploadFilesStep(inputId, outputId);\n",
              "  const outputElement = document.getElementById(outputId);\n",
              "  // Cache steps on the outputElement to make it available for the next call\n",
              "  // to uploadFilesContinue from Python.\n",
              "  outputElement.steps = steps;\n",
              "\n",
              "  return _uploadFilesContinue(outputId);\n",
              "}\n",
              "\n",
              "// This is roughly an async generator (not supported in the browser yet),\n",
              "// where there are multiple asynchronous steps and the Python side is going\n",
              "// to poll for completion of each step.\n",
              "// This uses a Promise to block the python side on completion of each step,\n",
              "// then passes the result of the previous step as the input to the next step.\n",
              "function _uploadFilesContinue(outputId) {\n",
              "  const outputElement = document.getElementById(outputId);\n",
              "  const steps = outputElement.steps;\n",
              "\n",
              "  const next = steps.next(outputElement.lastPromiseValue);\n",
              "  return Promise.resolve(next.value.promise).then((value) => {\n",
              "    // Cache the last promise value to make it available to the next\n",
              "    // step of the generator.\n",
              "    outputElement.lastPromiseValue = value;\n",
              "    return next.value.response;\n",
              "  });\n",
              "}\n",
              "\n",
              "/**\n",
              " * Generator function which is called between each async step of the upload\n",
              " * process.\n",
              " * @param {string} inputId Element ID of the input file picker element.\n",
              " * @param {string} outputId Element ID of the output display.\n",
              " * @return {!Iterable<!Object>} Iterable of next steps.\n",
              " */\n",
              "function* uploadFilesStep(inputId, outputId) {\n",
              "  const inputElement = document.getElementById(inputId);\n",
              "  inputElement.disabled = false;\n",
              "\n",
              "  const outputElement = document.getElementById(outputId);\n",
              "  outputElement.innerHTML = '';\n",
              "\n",
              "  const pickedPromise = new Promise((resolve) => {\n",
              "    inputElement.addEventListener('change', (e) => {\n",
              "      resolve(e.target.files);\n",
              "    });\n",
              "  });\n",
              "\n",
              "  const cancel = document.createElement('button');\n",
              "  inputElement.parentElement.appendChild(cancel);\n",
              "  cancel.textContent = 'Cancel upload';\n",
              "  const cancelPromise = new Promise((resolve) => {\n",
              "    cancel.onclick = () => {\n",
              "      resolve(null);\n",
              "    };\n",
              "  });\n",
              "\n",
              "  // Wait for the user to pick the files.\n",
              "  const files = yield {\n",
              "    promise: Promise.race([pickedPromise, cancelPromise]),\n",
              "    response: {\n",
              "      action: 'starting',\n",
              "    }\n",
              "  };\n",
              "\n",
              "  cancel.remove();\n",
              "\n",
              "  // Disable the input element since further picks are not allowed.\n",
              "  inputElement.disabled = true;\n",
              "\n",
              "  if (!files) {\n",
              "    return {\n",
              "      response: {\n",
              "        action: 'complete',\n",
              "      }\n",
              "    };\n",
              "  }\n",
              "\n",
              "  for (const file of files) {\n",
              "    const li = document.createElement('li');\n",
              "    li.append(span(file.name, {fontWeight: 'bold'}));\n",
              "    li.append(span(\n",
              "        `(${file.type || 'n/a'}) - ${file.size} bytes, ` +\n",
              "        `last modified: ${\n",
              "            file.lastModifiedDate ? file.lastModifiedDate.toLocaleDateString() :\n",
              "                                    'n/a'} - `));\n",
              "    const percent = span('0% done');\n",
              "    li.appendChild(percent);\n",
              "\n",
              "    outputElement.appendChild(li);\n",
              "\n",
              "    const fileDataPromise = new Promise((resolve) => {\n",
              "      const reader = new FileReader();\n",
              "      reader.onload = (e) => {\n",
              "        resolve(e.target.result);\n",
              "      };\n",
              "      reader.readAsArrayBuffer(file);\n",
              "    });\n",
              "    // Wait for the data to be ready.\n",
              "    let fileData = yield {\n",
              "      promise: fileDataPromise,\n",
              "      response: {\n",
              "        action: 'continue',\n",
              "      }\n",
              "    };\n",
              "\n",
              "    // Use a chunked sending to avoid message size limits. See b/62115660.\n",
              "    let position = 0;\n",
              "    do {\n",
              "      const length = Math.min(fileData.byteLength - position, MAX_PAYLOAD_SIZE);\n",
              "      const chunk = new Uint8Array(fileData, position, length);\n",
              "      position += length;\n",
              "\n",
              "      const base64 = btoa(String.fromCharCode.apply(null, chunk));\n",
              "      yield {\n",
              "        response: {\n",
              "          action: 'append',\n",
              "          file: file.name,\n",
              "          data: base64,\n",
              "        },\n",
              "      };\n",
              "\n",
              "      let percentDone = fileData.byteLength === 0 ?\n",
              "          100 :\n",
              "          Math.round((position / fileData.byteLength) * 100);\n",
              "      percent.textContent = `${percentDone}% done`;\n",
              "\n",
              "    } while (position < fileData.byteLength);\n",
              "  }\n",
              "\n",
              "  // All done.\n",
              "  yield {\n",
              "    response: {\n",
              "      action: 'complete',\n",
              "    }\n",
              "  };\n",
              "}\n",
              "\n",
              "scope.google = scope.google || {};\n",
              "scope.google.colab = scope.google.colab || {};\n",
              "scope.google.colab._files = {\n",
              "  _uploadFiles,\n",
              "  _uploadFilesContinue,\n",
              "};\n",
              "})(self);\n",
              "</script> "
            ]
          },
          "metadata": {}
        },
        {
          "output_type": "stream",
          "name": "stdout",
          "text": [
            "Saving 6.jpeg to 6.jpeg\n",
            "\u001b[1m1/1\u001b[0m \u001b[32m━━━━━━━━━━━━━━━━━━━━\u001b[0m\u001b[37m\u001b[0m \u001b[1m1s\u001b[0m 628ms/step\n",
            "Predicted Digit: 6\n"
          ]
        }
      ]
    },
    {
      "cell_type": "markdown",
      "source": [
        "## 5️⃣ Explanation / Phases of Case Study!\n",
        "\n",
        "### Data Collection & Preprocessing\n",
        "- Load MNIST dataset `(a,b,c,d)`  \n",
        "- Reshape to `(28×28×1)` for CNN  \n",
        "- Normalize pixel values to `0–1`  \n",
        "- One-hot encode labels for classification  \n",
        "\n",
        "### Model Building\n",
        "- Build LeNet-5 inspired CNN:  \n",
        "  - `Conv + Pool → Conv + Pool → Flatten → Dense → Dense → Output`  \n",
        "- Compile model with **Adam optimizer** and **categorical crossentropy loss**  \n",
        "\n",
        "### Training the Model\n",
        "- Train CNN on **60,000 training images**  \n",
        "- Use **validation split 10%**  \n",
        "- **Epochs = 5**, **batch size = 128**  \n",
        "\n",
        "### Evaluation\n",
        "- Predict test set labels `(c)`  \n",
        "- Calculate **accuracy, precision, recall, F1-score**  \n",
        "- Generate **confusion matrix** to visualize performance  \n",
        "\n",
        "### Deployment / Custom Prediction\n",
        "- Upload your handwritten digit image  \n",
        "- Preprocess image (**grayscale, resize 28×28, invert if needed**)  \n",
        "- Predict digit using trained model  \n",
        "\n",
        "### ✅ Key Points to Write in Exam\n",
        "- MNIST dataset is **28×28 grayscale**, 60k train / 10k test  \n",
        "- LeNet-5 inspired CNN → **2 conv layers + 2 pooling + 2 dense + output**  \n",
        "- **All metrics printed** → shows model performance clearly  \n",
        "- Can predict **custom handwritten digits**\n"
      ],
      "metadata": {
        "id": "vCG8SxADKG6Q"
      }
    }
  ]
}